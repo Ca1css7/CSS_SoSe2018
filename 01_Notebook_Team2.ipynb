{
 "cells": [
  {
   "cell_type": "markdown",
   "metadata": {},
   "source": [
    "<p>\n",
    "    <img src=\"Uni-Logo-2c.jpg\" height=\"150\" width=\"250\" border=\"2\" align=\"bottom\" hspace=\"50\" vspace=\"50\"><br>\n",
    "</p>\n",
    "<p style=\"font-size:14pt\">\n",
    "    Computational Social Science\n",
    "</p>\n",
    "<p style=\"font-size:12pt;color:gray\">\n",
    "    Institute for Web Science and Technologies\n",
    "</p>\n",
    "<p style=\"font-size:12pt;color:gray\">\n",
    "    Summer term 2018\n",
    "</p>\n",
    "<p style=\"font-size:10pt;color:gray\">\n",
    "    Supervisors: JProf. Dr. Claudia Wagner and Stefan Vujović\n",
    "</p>"
   ]
  },
  {
   "cell_type": "markdown",
   "metadata": {},
   "source": [
    "<p style=\"font-size:16pt\">\n",
    "    <center><b>Team 2: Female and male soccer</b></center>\n",
    "</p>"
   ]
  },
  {
   "cell_type": "markdown",
   "metadata": {},
   "source": [
    "<table>\n",
    "    <tr><th><center><font size='2'>name</font></center></th><th><center><font size='2'>matriculation number</font></center></th><th><center><font size='2'>email address</font></center></th><th><center><font size='2'>course of studies</font></center></th></tr>\n",
    "    <tr> <td><center><font size='2'>Mariya Chkalova</font></center></td><td><center><font size='2'>216203574</font></center></td><td><center><font size='2'>mchkalova@uni-koblenz.de</font></center></td><td><center><font size='2'>Web Science</font></center></td></tr>\n",
    "    <tr> <td><center><font size='2'>Carina Blüm</font></center></td><td><center><font size='2'>212200164</font></center></td><td><center><font size='2'>cbluem@uni-koblenz.de</font></center></td><td><center><font size='2'>E-Government</font></center></td></tr>\n",
    "    <tr> <td><center><font size='2'>Natalie Lang</font></center></td><td><center><font size='2'>217100505</font></center></td><td><center><font size='2'>natalielang@uni-koblenz.de</font></center></td><td><center><font size='2'>E-Government</font></center></td></tr>\n",
    "</table>"
   ]
  },
  {
   "cell_type": "markdown",
   "metadata": {},
   "source": [
    "## 1 Introduction\n",
    "<p style=\"font-size:12pt;color:gray\">\n",
    "    author: Carina Blüm<br>\n",
    "</p>\n",
    "<p style=\"font-size:12pt\">Soccer has its origins in 1863 in England. Since then, soccer became famous all over the world  (Murray & Murray, 1998, pp. 1–4). The Fédération Internationale de Football Association (FIFA) was funded in 1904 and is the world soccer’s governing body. The first World Cup of men took place in 1930 in Uruguay (Dunmore, 2015, p. vii) with Uruguay as the first world champion. The men's world cup in Russia in 2018 is the 21th holding. The first women's world cup took place in 1991 in China, since today seven world cups have been held [1]. However, women’s soccer was banned in the past. In Germany for example, women's soccer was banned from 1955 to 1970 [2]. A reason for that was the assumption that women's soccer is unfeminine, the womanlike grace would disappear and the women's body and soul would suffer from playing soccer.<br></p>    \n",
    "<p><span style=\"font-size:12pt\">This project analyses the differences of male and female soccer players. Therefore, the extracted data from Wikipedia, Google API and YouTube API is analyzed to measure the popularity of female and male soccer players. The research question is stated in the following chapter and the third chapter describes the data collection and methods used to answer the research questions. The fourth chapter provides the findings from the python programming and existing related work is presented in chapter five.</span><br></p>\n",
    "\n",
    "## 2 Research Question\n",
    "<p style=\"font-size:12pt;color:gray\">\n",
    "    author: Carina Blüm<br>\n",
    "</p>\n",
    "<p><span style=\"font-size:12pt\">\n",
    "As statet in the introduction, there were differences between women's football and men's football already in the beginning of football. Thus, the research question is as follows:</span><br></p>\n",
    "<h1><center><font size=\"4\">How popular is female and male soccer today and what are the differences?</font></center></h1>"
   ]
  },
  {
   "cell_type": "markdown",
   "metadata": {},
   "source": [
    "## 3 Data and Method\n",
    "\n",
    "### 3.1 Data Collection 1\n",
    "<p style=\"font-size:12pt;color:gray\">\n",
    "    author: Carina Blüm<br>\n",
    "</p>\n",
    "<p><span style=\"font-size:12pt\", line-height: 350%>To answer the research question, the required information for each female and male soccer player have to be extracted first. The data from the last women's world cup in 2015 and the last men's world cup in 2014 is used for this study. 24 teams participated in the women's world cup, each with 23 players [3]. On the last men's world cup in Brazil 32 teams participated, each with 23 players [4]. The following Wikipedia web pages were used to extract the data from the players and .csv-files with the relevant information were created:</span><br>\n",
    "<ul>\n",
    "    <li>https://en.wikipedia.org/wiki/2015_FIFA_Women%27s_World_Cup_squads</li>\n",
    "    <li>https://en.wikipedia.org/wiki/2014_FIFA_World_Cup_squads</li>\n",
    "</ul>\n",
    "<span style=\"font-size:12pt\">For each player, the following information has been extracted (python code see file '<font color=\"gray\">[web_scrapper.py](web_scrapper.py)<a id='web_scrapper.py'></a></font>'):</span><br>\n",
    "<span style=\"font-size:12pt\"><ul>\n",
    "    <li>nation,</li>\n",
    "    <li>name of the player,</li>\n",
    "    <li>age,</li>\n",
    "    <li>position,</li>\n",
    "    <li>wikipedia url of the player and</li>\n",
    "    <li>number of matches (caps).</li>\n",
    "</ul></span><br>\n",
    "<span style=\"font-size:12pt\">As a reslut, the code creates for the women's and men's world two .csv-files, containing all teams and players (see '<font color=\"gray\">[wc_2014.csv](wc_2014.csv)<a id='wc_2014.csv'></a></font>' and '<font color=\"gray\">[wc_2015.csv](wc_2015.csv)<a id='wc_2015.csv'></a></font>'). Those files were re-used to collect the search results for each player on Google Trends.</span><br></p>"
   ]
  },
  {
   "cell_type": "markdown",
   "metadata": {},
   "source": [
    "### 3.2 Collecting the data from Google Trends for all male and female soccer players\n",
    "<p style=\"font-size:12pt;color:gray\">\n",
    "    author: Carina Blüm<br>\n",
    "</p>\n",
    "<p><span style=\"font-size:12pt\"><font>First, the Google Trends Data was extracted from one month with Python for each male and female soccer player. The code to collect the data from Google trends is created in seperate notebooks. In fact, that Google does not offer an Google Trends API, the unofficial API \"pytrends\" is used. The players names were extracted from the created .csv-files (see chapter 3.1). Each player is searched with a reference to normalize the results. This reference word was the respective nation of each player and the additional word <i>football</i>, e.g. 'Manuel Neuer' is compared with 'German football'. The correnponding code can be found in Step 1 in the notebooks '<font color=\"gray\">[02_Male_Google_Trends.ipynb](02_Male_Google_Trends.ipynb)<a id='02_Male_Google_Trends.ipynb'></a></font>' and '<font color=\"gray\">[03_Female_Google_Trends.ipynb](03_Female_Google_Trends.ipynb)<a id='03_Female_Google_Trends.ipynb'></a></font>').<br/>\n",
    "<p><span style=\"font-size:12pt\">For each player the Google Trends data is collected for one month and written into the following two .csv-files:</span><br></p>\n",
    "<ul>\n",
    "    <li><font color=\"gray\">[malePlayer_Google_Trends.csv](malePlayer_Google_Trends.csv)<a id='malePlayer_Google_Trends.csv'></a></font></li>\n",
    "    <li><font color=\"gray\">[femalePlayer_Google_Trends.csv](femalePlayer_Google_Trends.csv)<a id='femalePlayer_Google_Trends.csv'></a></font></li>\n",
    "</ul>\n",
    "<p><span style=\"font-size:12pt\">In Step 2, the data for each player have to be summed up, because the original data consist of the Google Trends data for the last thirty days. Finally, those data is written in two .csv-files.</span><br></p>\n",
    "<ul>\n",
    "    <li><font color=\"gray\">[Sum_Male_GoogleTrend.csv](Sum_Male_GoogleTrend.csv)<a id='Sum_Male_GoogleTrend.csv'></a></font></li>\n",
    "    <li><font color=\"gray\">[Sum_Female_GoogleTrend.csv](Sum_Female_GoogleTrend.csv)<a id='Sum_Female_GoogleTrend.csv'></a></font></li>\n",
    "</ul>"
   ]
  },
  {
   "cell_type": "markdown",
   "metadata": {},
   "source": [
    "### 3.3 Collecting the data from Wikipedia, YouTube\n",
    "<p style=\"font-size:12pt;color:gray\">\n",
    "    author: Mariya Chkalova<br>\n",
    "</p>"
   ]
  },
  {
   "cell_type": "markdown",
   "metadata": {},
   "source": [
    "The file \"Wikipedia_YouTube_comparison.ipynb\" contains the source code of the program, that I wrote to retrieve data from Wikipedia and YouTube API:\n",
    "- class Statistics contains methods to retrieve Wikipedia article with the list of players, parse the page and extract players names and urls to their individual Wikipedia pages (if exists), save the DataFrame of the class instance. \n",
    "Here we used the players dataset, collected from the Wiki pages:\n",
    "men - https://en.wikipedia.org/wiki/2014_FIFA_World_Cup_squads\n",
    "women - https://en.wikipedia.org/wiki/2015_FIFA_Women%27s_World_Cup_squads"
   ]
  },
  {
   "cell_type": "markdown",
   "metadata": {},
   "source": [
    "### Retrieve data from Wikipedia\n",
    "Once the DataFrame of players was built, we iterated though individual Wikipedia pages for each player and retrieved the monthly number of page views. Then we summarized page views for particular month and divided on the number of players, that had statistics for that month. Articles for players were created on different timestamps, therefore the number of players, that had the count of page views for particular month, varied. This procedure was made separately for men and women datasets. Result set of aggregated page views per month was plotted (results are described on the chapter below).\n",
    "\n",
    "Here we used WikiPedia API with the following requests:\n",
    "- creation time of the article for individual player - https://en.wikipedia.org/w/api.php?action=query&format=json&prop=revisions&rvlimit=1&rvprop=timestamp&rvdir=newer&titles= + title\n",
    "- get page views - https://wikimedia.org/api/rest_v1/metrics/pageviews/per-article/en.wikipedia.org/all-access/all-agents/\" + title + \"/monthly/\" + start + \"/20180801"
   ]
  },
  {
   "cell_type": "markdown",
   "metadata": {},
   "source": [
    "### Retrieve data from Wikipedia\n",
    "\n",
    "Similarly, after retrieval of the dataset of players, we run the request towards YouTube API to get the total number of videos, that exist for each individual player.\n",
    "The following request helped to get the value:\n",
    "https://en.wikipedia.org/w/api.php?action=query&format=json&prop=revisions&rvlimit=1&rvprop=timestamp&rvdir=newer&titles=\" + title"
   ]
  },
  {
   "cell_type": "markdown",
   "metadata": {},
   "source": [
    "<br>\n",
    "## 4 Analysis\n",
    "<p>\n",
    "    <span style=\"font-size:12pt\">This chapter provides the analysis of the previously gathered data from Google Trends, Wikipedia and YouTube about the soccer players who participated in the last women's and men's world cups in 2014 and 2015.</span><br>\n",
    "</p>"
   ]
  },
  {
   "cell_type": "markdown",
   "metadata": {},
   "source": [
    "<p style=\"font-size:12pt;\"><b> 4.1 Analysis of the Google Trends data:</b></p>\n",
    "<p style=\"font-size:11pt;color:gray;\">author: Carina Blüm<br></p>\n",
    "<p style=\"font-size:11pt;\">For every female and male soccer player the summed up Google Trends data is compared with the international caps they have already played. Those caps are the number of matches a soccer player has played for his or her national team. The results have been drawn seperately for female and male soccer player (the code can be found in Step 3.1 in the notebooks '<font color=\"gray\">[02_Male_Google_Trends.ipynb](02_Male_Google_Trends.ipynb)<a id='02_Male_Google_Trends.ipynb'></a></font>' and '<font color=\"gray\">[03_Female_Google_Trends.ipynb](03_Female_Google_Trends.ipynb)<a id='03_Female_Google_Trends.ipynb'></a></font>').<br/>\n",
    "<p>Afterwards, both plots have been merged, which is shown in the following figure (see Step 3.1 in '<font color=\"gray\">[02_Male_Google_Trends.ipynb](02_Male_Google_Trends.ipynb)<a id='02_Male_Google_Trends.ipynb'></a></font>').\n",
    "Female soccer players are depicted as green dot, male soccer players as blue dots. The x-acis displays the caps (from a scale 0 to 350) and the y-axis displays the Google Trends search results (from 0 to 2500).</p>\n",
    "<img src=\"Compare_GoogleTrends_female_male_caps_Edited.png\" height=\"1500\" width=\"1500\" border=\"2\" align=\"bottom\" hspace=\"50\" vspace=\"50\"><br>"
   ]
  },
  {
   "cell_type": "markdown",
   "metadata": {},
   "source": [
    "<p><font size='3'>The plot shows that the results from Google Trends for many soccer players is zero. As you can see, most soccer players are stated in the left bottom square (up to 50 caps and a value up to 500 for Google Trends search results.) To analyse the results, different aspects have to be considered firt. For example, a name like 'Thomas Müller' is a common name in Germany and some soccer players from Brazil, like 'Marta' (female team captian of Brazil) or 'Jefferson' (male goalkeeper of Brazil), are only named with the prename. The results from 'Jefferson' might be distorted, because you might also get results from Thomas Jefferson (lived from 1743 to 1826), who was an American Founding Father and was the third U.S. president [6]. Another important consideration, that might influence the results, is the fact, that the analysis of the Google Trends data was conducted before the men's World Cup in Russia in 2018 after the list of players for all teams have been announced. To point out some players, the developed pot has been edited afterwards. </font></p><br>\n",
    "<p><font size='3'><b>Player with highest number of caps (outlined in red):</b></font></p>\n",
    "<ul><li><font size='3'><b>Christie Rampone</b><br>has played most caps of all female soccer players. She was the team captain of the U.S. womens's national soccer team in the 2015th world cup and played 306 caps so far. The Google Trends search results only had a value of 60.</font></li>\n",
    "<li><font size='3'><b>Iker Casillas</b><br> played 154 caps. He was the goalkeeper of Spain in the 2014th world cup. The Google Trends search results had a value of 166.</font></li></ul>\n",
    "</font></p><br>\n",
    "<p><font size='3'><b>Names with highest values of Google Trends research requests (outlined in orange):</b></font></p>\n",
    "<table>\n",
    "    <tr><th><center><font size='3'>name</font></center></th><th><center><font size='3'>caps</font></center></th><th><center><font size='3'>Google Trends</font></center></th></tr>\n",
    "    <tr> <td><center><font size='3'>Fred (Brazil)</font></center></td><td><center><font size='3'>33</font></center></td><td><center><font size='3'>2283</font></center></td></tr>\n",
    "    <tr> <td><center><font size='3'>Jefferson (Brazil)</font></center></td><td><center><font size='3'>9</font></center></td><td><center><font size='3'>2231</font></center></td></tr>\n",
    "    <tr> <td><center><font size='3'>Viktor (Brazil)</font></center></td><td><center><font size='3'>6</font></center></td><td><center><font size='3'>2165</font></center></td></tr>\n",
    "    <tr> <td><center><font size='3'>Monica (Brazil)</font></center></td><td><center><font size='3'>21</font></center></td><td><center><font size='3'>2143</font></center></td></tr>\n",
    "    <tr> <td><center><font size='3'>Marta (Brazil)</font></center></td><td><center><font size='3'>92</font></center></td><td><center><font size='3'>2063</font></center></td></tr>\n",
    "</table><br>\n",
    "<p><font size='3'>\n",
    "    <ul><li>The table shows the results for Brazilian female and male soccer players. In fact, that only the prename was given as input, those results can not be analyzed. A specification of the search request would have been required.</li></ul></font>\n",
    " <img src=\"Boxplot_Compare_GoogleTrends.png\" height=\"1500\" width=\"1500\" border=\"2\" align=\"bottom\" hspace=\"50\" vspace=\"50\"><br>\n",
    "</p><br>\n",
    "<p style=\"font-size:12pt\">To visualise the data, the Google Trends requests are also displayed in a boxplot (see  code in Step 3.3 in '<font color=\"gray\">[02_Male_Google_Trends.ipynb](02_Male_Google_Trends.ipynb)<a id='02_Male_Google_Trends.ipynb'></a></font>'). The median of male soccer player is close to zero and of female soccer player is zero. There are some discordant values, which are the values for the Google Trends requests stated in the previous table.\n",
    "</p>"
   ]
  },
  {
   "cell_type": "markdown",
   "metadata": {},
   "source": [
    "<p style=\"font-size:12pt\">Due to the fact that many Google Trends results were zero, another keyword <i>'bonsai'</i> was selected to compare it with each player and thus, normalize the value of the soccer player. You may find the code in Step 4 in notebook '<font color=\"gray\">[02_Male_Google_Trends.ipynb](02_Male_Google_Trends.ipynb)<a id='02_Male_Google_Trends.ipynb'></a></font>'). Unfortunately, the error 'ResponseError: The request failed: Google returned a response with code 429' occurs, which means that there were too many requests. Possible solutions that you can find in forums on the internet are to change the 'time.sleep()' after each player or to run the code with a different IP address. After adapting those solutions, the error still occurs.\n",
    "</p><br>"
   ]
  },
  {
   "cell_type": "markdown",
   "metadata": {},
   "source": [
    "<p style=\"font-size:12pt\">\n",
    "\t<b> 4.2 Analysis of the gathered data from Wikipedia:</b>\n",
    "</p>\n",
    "<p style=\"font-size:12pt;color:gray;\">\n",
    "\tauthor: Mariya Chkalova<br>\n",
    "</p>\n",
    "\n",
    "<img src=\"Wikipedia results.png\" height=\"600\" width=\"1000\" border=\"2\" align=\"bottom\" hspace=\"50\" vspace=\"50\">"
   ]
  },
  {
   "cell_type": "markdown",
   "metadata": {},
   "source": [
    "<p style=\"font-size:12pt\">The plot above demonstrates the overall tendency: within the last 3 years the number of page views for men-players is always higher, than for the women-players. </p><br>\n",
    "\n",
    "<p style=\"font-size:12pt\">Let us pay attention on the monthes July-August 2015 and July-August 2016. We could conclude that there was a peak of interest towards soccer players Wikipedia pages, when the number of views exceeded significantly the previous and the following monthes. It is difficult to explain sociological cause of such peaks, however what is worth noticing, is that even on that periods the number of page views for men players exceeded the corresponding measure for women.</p><br>\n",
    "\n",
    "<p style=\"font-size:12pt\">Besides the apparent tendency, another important conclusion, that we could make observing the results, is that the distribution of women-players page views is almost identical within the period of consideration, following almost the ideal linear function. While the deviation of the page views for men-players for different monthes always varies. \n",
    "</p><br>"
   ]
  },
  {
   "cell_type": "markdown",
   "metadata": {},
   "source": [
    "<p style=\"font-size:12pt;\">\n",
    "\t<b> 4.3 Analysis of the gatherd data from YouTube:</b>\n",
    "</p>\n",
    "<p style=\"font-size:12pt;color:gray\">\n",
    "\tauthor: Mariya Chkalova<br>\n",
    "</p>\n",
    "\n",
    "<img src=\"YouTube results.png\" height=\"300\" width=\"500\" border=\"2\" align=\"bottom\" hspace=\"50\" vspace=\"50\">"
   ]
  },
  {
   "cell_type": "markdown",
   "metadata": {},
   "source": [
    "<p style=\"font-size:12pt\">So, for each players individually we computed the number of videos, that exist in YouTube. We summed then all the videos for men- and women-players. As the number of players in our dataset differed, we divided the count of YouTube videos on the number of players and received the average number of videos per man-, woman-player. Obtained results are self-explanatory and shows that there are 3 times more videos on average for the man-player, than for the woman-player.</p><br>"
   ]
  },
  {
   "cell_type": "markdown",
   "metadata": {},
   "source": [
    "<br>\n",
    "## 5 Related Work\n",
    "<p style=\"font-size:12pt;color:gray\">\n",
    "\tauthor: Natalie Lang<br>\n",
    "</p>\n",
    "<p>\n",
    "\t<span style=\"font-size:12pt\">This chapter gives an overview of existing related work, where the authors have analyzed the effects of different apects \ton the popularity of male and female soccer.</span>\n",
    "</p>\n",
    "<ol>\n",
    "   <li><b><span style=\"font-size:12pt\">Football Frenzy: The Effect of the 2011 World Cup on Women’s Professional Soccer League Attendance</span></b><br>\n",
    "       <p><span style=\"font-size:12pt\">The World Cup in 2011 brought women’s soccer high attention in the United States as the Americans defeated Brazil in a penalty kick shootout after Abby Wambach scored the tying goal in the 122nd minute. LeFeuvre et al. (2013) uses match-level data from the Women's Professional Soccer League (WPS) to study the effect of the World Cup on WPS attendances. The WPS existed during 2009 and 2011, a new professional leage was founded in 2013 and is called National Women’s Soccer League [5]. LeFeuvre et al. found out that the 2011 Women’s World Cup roughly doubled the attendances at women’s professional soccer matches. For the analysis they used an empirical strategy similar to those of Jewell and Molina (2005) and Lawson, Sheehan, and Stephenson (2008). LeFeuvre et al. (2013) used match-level data from the 2009-2011 WPS seasons to estimate the following model:</span></p><br>\n",
    "<img src=\"LeFeuvre.png\" height=\"450\" width=\"650\" border=\"2\" align=\"bottom\" hspace=\"50\" vspace=\"50\">\n",
    "<p><span style=\"font-size:12pt\">The attendances were obtained from the WPS website. <i>PostWC</i> is the primary variable of interest and taking a value of one for all matches after the World Cup final on July 17, 2011. <i>𝛽1</i> will be positive if the WC led to increased attendance at WPS matches. <i>DuringWC</i> could have either a positive or a negative coefficient. This variable takes a value of one for matches played while the World Cup. <i>DuringWC</i> will be positively related to Attendance if the WC led to an increase in WPS attendance before the conclusion of the World Cup and will be negative if fans substituted televised World Cup matches for live WPS events.</span><br></p>\n",
    "<p><span style=\"font-size:12pt\">Other factors might affect attendance e.g. the amount of rain that falls on the day of the match. To control other factors the model includes Precip and dummy variables for the years 2009 and 2011. <i>InaugGame</i> for the inaugural WPS match and DoubleHeader for a match played as part of a double header with an MLS club. To control the quality of the teams playing in each match LeFeuvre et al. (2013) defined two variables <i>HomePtsPct</i> and <i>VisitPtsPct</i>. These variables are defined as the number of points earned by the home team and the visiting team as a percentage of the possible points that each team could have earned in its previous matches that season. For the day of the week or the month of the year on which each match was played LeFeuvre et al. (2013) defined the vector <i>DayMonth</i>. One would expect matches played on weekdays to have lower attendance than matches played on a weekend. The vector Homecity controls city-specific factors that may affect attendance and includes a series of dummy variables for each home team. The results of this analysis show that after the 2011 World Cup, the number of spectators has increased.</span></p>    </li><br>\n",
    "    <li><b><span style=\"font-size:12pt\">Successful, sexy, popular: Athletic performance and physical attractiveness as determinants of public interest in male and female soccer players</span></b><br>\n",
    "        <p><span style=\"font-size:12pt\">Mutz et al. (2014) has investigated how public attention for individual players of different national soccer teams is influenced by (a) their athletic performance and (b) their physical attractiveness. The results show that public interest in soccer players depends significantly on performance and attractiveness. There is no gender-specific difference: the attractiveness of male soccer players is just as important for popularity as it is for female soccer players.\n",
    "Mutz et al. (2014) has set up four hypotheses:</span></p>\n",
    "<ul>\n",
    "   <li><span style=\"font-size:12pt\">H#1: The better an athlete’s sporting performance, the higher the public interest in her/him </span></li>\n",
    "   <li><span style=\"font-size:12pt\">H#2: The more attractive an athlete is, the higher the public interest in her/him.</span></li>\n",
    "   <li><span style=\"font-size:12pt\">H#3: Any effect of attractiveness on public interest should be stronger for female athletes than for male athletes.</span></li>\n",
    "   <li><span style=\"font-size:12pt\">H#4: Particularly the combination of strong sporting performance and high physical attractiveness results in high popularity.</span></li><br>\n",
    "</ul>\n",
    "<p><span style=\"font-size:12pt\">Mutz et al. (2014) has measured the popularity of the celebrity by the frequency with which the person is looked up on the Internet search engine Google and collected the Google search requests for male and female soccer players from six national teams. He used the period of the last men’s and women’s UEFA (Union of European Football Associations) European Championship in soccer, in June 2012 and July 2013 and only considered the search requests coming from the respective national country. Mutz et al. (2014) selected three men’s national teams (Germany, Spain, Italy) and three women’s national teams (Germany, Sweden, France) for the empirical analysis. \n",
    "In order to measure the performance of athletes Mutz et al. (2014) relied on two indicators:</span></p>\n",
    "<ul>\n",
    "   <li><span style=\"font-size:12pt\">performance differences could be seen in differing lengths of time on the pitch</span></li>\n",
    "   <li><span style=\"font-size:12pt\">Those players shooting goals are particularly put in the media’s spotlight and receive much public attention</span></li>\n",
    "</ul>\n",
    "<p><span style=\"font-size:12pt\">Next were the attractiveness of a player’s face according to the truth-of-consensus method measured. The attractiveness score was calculated as the mean value of the six attractiveness evaluations. The evaluation was conducted by three male and three female students on a seven-grade rating scale.\n",
    "The results obtained by Mutz et al. (2014) show that the performance significantly affects the public attention the players of a team receive. The goals scored are more important for public attention. Public attention depends on the attractiveness of soccer players: the more attractive the person is evaluated as, the greater the attention is. Attractive players are more in the focus of the public than less attractive team members, regardless of pitch time and goal-scoring. The popularity differences of the male and female soccer players depend on attractiveness to a similar extent. The attractiveness effect does not depend on gender. The public interest in soccer players from different national teams, as measured by Google requests at the UEFA European Championship for men and women, depends largely on the performance on the pitch and the physical attractiveness of a player. Attractiveness influences public awareness for both male and female soccer players.\n",
    "</span></p><br>\n",
    "        <li><b><span style=\"font-size:12pt\">Fußball ist nicht gleich Fußball - Ein Sport. Zwei Geschlechter. Unzählige mediale\n",
    "Berichterstattungsdifferenzen</span></b><br>\n",
    "        <p><span style=\"font-size:12pt\">Schöndorfer's (2014) article aims to be able to make up-to-date statements about the persistence or the change in the representation of female footballers in selected German print media. Of interest here is the extent to which traditional or novel representations of footballers are present. According to the purpose of this article, the research question was:\n",
    "How were female footballers participating in the Women's World Cup 2011 shown in selected German newspapers during the period of this sporting event?\n",
    "In order to be able to answer this question, theoretical aspects must be summarized in advance on the basis of the following topics:</span></p>\n",
    "<ul>\n",
    "   <li><span style=\"font-size:12pt\">Formal features</span></li>\n",
    "   <li><span style=\"font-size:12pt\">Verbal content</span></li>\n",
    "   <li><span style=\"font-size:12pt\">Visual content</span></li>\n",
    "   <li><span style=\"font-size:12pt\">Linguistic and stylistic characteristics</span></li>\n",
    "   <li><span style=\"font-size:12pt\">Formal features</span></li>\n",
    "   <li><span style=\"font-size:12pt\">Sporting values</span></li>\n",
    "</ul>\n",
    "<p><span style=\"font-size:12pt\">The goal of analyzing content and visual representations of women footballers in relevant media contributions was pursued by means of the content analysis method. It is an empirical method for the systematic, intersubjectively comprehensible description of content and formal features of messages. The answer to the research question is based on a review of the relevance of previously stated statements on media portrayals of women athletes, which are assigned to just these five subject areas. In principle, both a quantitative and a qualitative procedure are suitable for this empirical investigation: the collection of relevant media contributions results in an unexpectedly large number of analysis units (N = 478). In order to be able to take them all into account, the quantitative approach can be used, with which a large number of data can be analyzed and presented clearly. The second part of the research objective, the determination of whether or to what extent new forms of representation of women footballers exist, could be achieved more with a qualitative approach. With the development of a category system, all contents relevant to an empirical investigation, called categories, are defined, collected and defined. Quantitative content analysis categories are based on previously developed theoretical statements and are developed prior to data collection, which is why in the context of quantitative content analysis they are generally closed category systems that are not altered during data collection.\n",
    "Results of the empirical study of 478 contributions to the media show that - for the relevant subject of the study and the period under consideration - theoretical assumptions do not dominate traditional media representations of female footballers, but rather that predominantly new types of representation occur. Although the progression of gender equality in media football happens much more in the evolutionary, rather than in the pace of revolution, the results of the empirical study show that positive changes in the sense of progressive emancipation are very noticeable and that there is a changing consciousness , Even sports and football - two of the most backward media areas in terms of gender democracy - do not stop at this necessary social transformation.</span></p>\n",
    "</ol>"
   ]
  },
  {
   "cell_type": "markdown",
   "metadata": {},
   "source": [
    "## References\n",
    "\n",
    "Dunmore, T. (2015). Encyclopedia of the FIFA World Cup. Rowman & Littlefield Publishers. Retrieved from https://books.google.de/books?id=4uJdBgAAQBAJ\n",
    "\n",
    "Jewell, R. T., & Molina, D. J. (2005). An Evaluation of the Relationship Between Hispanics and Major League Soccer. Journal of Sports Economics, 6(2), 160–177. https://doi.org/10.1177/1527002504263400\n",
    "\n",
    "Lawson Robert A. & Sheehan Kathleen & Stephenson E. Frank (2008). Vend It Like Beckham: David Beckham's Effect on MLS Ticket Sales. International Journal of Sport Finance - Fitness Information Technology, vol. 3(4), pages 189-195, November https://ideas.repec.org/a/jsf/intjsf/v3y2008i4p189-195.html\n",
    "\n",
    "LeFeuvre, A. D., Stephenson, E. F., & Walcott, S. M. (2013). Football Frenzy: The Effect of the 2011 World Cup on Women’s Professional Soccer League Attendance. Journal of Sports Economics, 14(4), 440–448. https://doi.org/10.1177/1527002513496012\n",
    "\n",
    "Murray, B., & Murray, W. J. (1998). The World’s Game: A History of Soccer. University of Illinois Press. Retrieved from https://books.google.de/books/about/The_World_s_Game.html?id=i32zcifYgEgC&redir_esc=y\n",
    "\n",
    "Mutz, M., & Meier, H. E. (2014). Successful, sexy, popular: Athletic performance and physical attractiveness as determinants of public interest in male and female soccer players. International Review for the Sociology of Sport, 51(5), 567–580. https://doi.org/10.1177/1012690214545900\n",
    "\n",
    "Schöndorfer (2014). Fußball. Macht. Politik.: Interdisziplinäre Perspektiven auf Fußball und Gesellschaft. transcript Verlag. Retrieved from https://books.google.de/books?id=gHNEBQAAQBAJ&pg=PA102&dq=analyse+beliebtheit+frauenfußball&hl=de&sa=X&ved=0ahUKEwjFpNnlwbDbAhUmGZoKHTJaC1YQ6AEINDAC#v=onepage&q=analyse beliebtheit frauenfußball&f=false\n",
    "\n",
    "\n",
    "## Sources\n",
    "[1] FIFA; <i>FIFA Women's World Cup™ archive</i>; https://www.fifa.com/fifa-tournaments/archive/womensworldcup/index.html (last retrieved: June 15, 2018)<br>\n",
    "[2] Bundeszentrale für politische Bildung; <i>Die graue Spielzeit</i>; http://www.bpb.de/gesellschaft/gender/graue-spielzeit/ (last retrieved: June 15, 2018)<br>\n",
    "[3] Wikipedia; <i>2015 FIFA Women's World Cup squads</i>; https://en.wikipedia.org/wiki/2015_FIFA_Women%27s_World_Cup_squads (last retrieved: July 06, 2018)<br>\n",
    "[4] Wikipedia; <i>2014 FIFA World Cup squads</i> https://en.wikipedia.org/wiki/2014_FIFA_World_Cup_squads (last retrieved: July 06, 2018)<br>\n",
    "[5] Wikipedia; <i>National Women’s Soccer League</i> https://en.wikipedia.org/wiki/National_Women%27s_Soccer_League (last retrieved: July 21, 2018)<br>\n",
    "[6] history.com; <i>Thomas Jefferson</i>;https://www.history.com/topics/us-presidents/thomas-jefferson (last retrieved: July 21, 2018)<br>"
   ]
  },
  {
   "cell_type": "code",
   "execution_count": null,
   "metadata": {
    "collapsed": true
   },
   "outputs": [],
   "source": []
  }
 ],
 "metadata": {
  "kernelspec": {
   "display_name": "Python 3",
   "language": "python",
   "name": "python3"
  },
  "language_info": {
   "codemirror_mode": {
    "name": "ipython",
    "version": 3
   },
   "file_extension": ".py",
   "mimetype": "text/x-python",
   "name": "python",
   "nbconvert_exporter": "python",
   "pygments_lexer": "ipython3",
   "version": "3.6.0"
  }
 },
 "nbformat": 4,
 "nbformat_minor": 2
}
